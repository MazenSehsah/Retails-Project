{
 "cells": [
  {
   "cell_type": "code",
   "execution_count": 0,
   "metadata": {
    "application/vnd.databricks.v1+cell": {
     "cellMetadata": {
      "byteLimit": 2048000,
      "rowLimit": 10000
     },
     "inputWidgets": {},
     "nuid": "d704892b-ec59-4590-b3d4-c1b744b534af",
     "showTitle": false,
     "tableResultSettingsMap": {},
     "title": ""
    }
   },
   "outputs": [
    {
     "name": "stdout",
     "output_type": "stream",
     "text": [
      "Welcome Hunter\n"
     ]
    }
   ],
   "source": [
    "print(\"Welcome Hunter\")"
   ]
  },
  {
   "cell_type": "code",
   "execution_count": 0,
   "metadata": {
    "application/vnd.databricks.v1+cell": {
     "cellMetadata": {
      "byteLimit": 2048000,
      "rowLimit": 10000
     },
     "inputWidgets": {},
     "nuid": "2a717254-2bea-48fc-b5b8-3214342be2a6",
     "showTitle": false,
     "tableResultSettingsMap": {},
     "title": ""
    }
   },
   "outputs": [],
   "source": [
    "spark.conf.set(\n",
    "  \"fs.azure.account.key.Your Storage Account.dfs.core.windows.net\",\n",
    "  \"Your Access Key\"\n",
    ")\n"
   ]
  },
  {
   "cell_type": "code",
   "execution_count": 0,
   "metadata": {
    "application/vnd.databricks.v1+cell": {
     "cellMetadata": {
      "byteLimit": 2048000,
      "rowLimit": 10000
     },
     "inputWidgets": {},
     "nuid": "aca28f71-e16c-4d50-8b65-2ad634ece629",
     "showTitle": false,
     "tableResultSettingsMap": {},
     "title": ""
    }
   },
   "outputs": [
    {
     "name": "stdout",
     "output_type": "stream",
     "text": [
      "+--------+--------------------+------------+\n",
      "|store_id|          store_name|    location|\n",
      "+--------+--------------------+------------+\n",
      "|       1|     City Mall Store|         UAE|\n",
      "|       2|   High Street Store|Saudi Arabia|\n",
      "|       3|   Tech World Outlet|       Qatar|\n",
      "|       4|Cairo Festival Ci...|       Egypt|\n",
      "|       5|          Mega Plaza|      Kuwait|\n",
      "+--------+--------------------+------------+\n",
      "\n"
     ]
    }
   ],
   "source": [
    "df_store = spark.read.parquet(\"abfss://retailsdb@hellooodb.dfs.core.windows.net/Raw_Data/dbo.stores.parquet\")\n",
    "df_store.show(5)"
   ]
  },
  {
   "cell_type": "code",
   "execution_count": 0,
   "metadata": {
    "application/vnd.databricks.v1+cell": {
     "cellMetadata": {
      "byteLimit": 2048000,
      "rowLimit": 10000
     },
     "inputWidgets": {},
     "nuid": "e74965ce-7210-40c9-a4fc-eef0f963db6e",
     "showTitle": false,
     "tableResultSettingsMap": {},
     "title": ""
    }
   },
   "outputs": [
    {
     "name": "stdout",
     "output_type": "stream",
     "text": [
      "+--------------+-----------+----------+--------+--------+----------------+\n",
      "|transaction_id|customer_id|product_id|store_id|quantity|transaction_date|\n",
      "+--------------+-----------+----------+--------+--------+----------------+\n",
      "|            31|        101|         1|       1|       3|      2025-04-01|\n",
      "|            32|        102|         2|       2|       2|      2025-04-03|\n",
      "|            33|        103|         3|       3|       1|      2025-04-05|\n",
      "|            34|        104|         4|       4|       5|      2025-04-07|\n",
      "|            35|        105|         5|       5|       2|      2025-04-09|\n",
      "+--------------+-----------+----------+--------+--------+----------------+\n",
      "only showing top 5 rows\n"
     ]
    }
   ],
   "source": [
    "df_transaction = spark.read.parquet(\"abfss://retailsdb@hellooodb.dfs.core.windows.net/Raw_Data/dbo.transactions.parquet\")\n",
    "df_transaction.show(5)"
   ]
  },
  {
   "cell_type": "code",
   "execution_count": 0,
   "metadata": {
    "application/vnd.databricks.v1+cell": {
     "cellMetadata": {
      "byteLimit": 2048000,
      "rowLimit": 10000
     },
     "inputWidgets": {},
     "nuid": "157bf221-239d-4bf9-adf3-cab30d39dd9d",
     "showTitle": false,
     "tableResultSettingsMap": {},
     "title": ""
    }
   },
   "outputs": [
    {
     "name": "stdout",
     "output_type": "stream",
     "text": [
      "+----------+-----------------+-----------+-----+\n",
      "|product_id|     product_name|   category|price|\n",
      "+----------+-----------------+-----------+-----+\n",
      "|         1|   Wireless Mouse|Electronics|  800|\n",
      "|         2|Bluetooth Speaker|Electronics| 1200|\n",
      "|         3|         Yoga Mat|    Fitness|  499|\n",
      "|         4|     Laptop Stand|Accessories|  999|\n",
      "|         5|     Notebook Set| Stationery|  149|\n",
      "+----------+-----------------+-----------+-----+\n",
      "only showing top 5 rows\n"
     ]
    }
   ],
   "source": [
    "df_products = spark.read.parquet(\"abfss://retailsdb@hellooodb.dfs.core.windows.net/Raw_Data/dbo.products.parquet\")\n",
    "df_products.show(5)"
   ]
  },
  {
   "cell_type": "code",
   "execution_count": 0,
   "metadata": {
    "application/vnd.databricks.v1+cell": {
     "cellMetadata": {
      "byteLimit": 2048000,
      "rowLimit": 10000
     },
     "inputWidgets": {},
     "nuid": "23187941-a76a-4645-a3a7-0c4fa55d82bb",
     "showTitle": false,
     "tableResultSettingsMap": {},
     "title": ""
    }
   },
   "outputs": [
    {
     "name": "stdout",
     "output_type": "stream",
     "text": [
      "+-----------+----------------+--------------------+------------+-----------------+\n",
      "|customer_id|       full_name|               email|     country|registration_date|\n",
      "+-----------+----------------+--------------------+------------+-----------------+\n",
      "|        101|    Ahmed Khaled|ahmed.khaled1@gma...|       Egypt|       2025-10-16|\n",
      "|        102| Sara Al Mansour|sara.almansour2@o...|Saudi Arabia|       2025-10-18|\n",
      "|        103|    Layla Kazemi|layla.kazemi3@yah...|         UAE|       2025-10-19|\n",
      "|        104|     Omar Farouk|omar.farouk4@gmai...|       Egypt|       2025-10-17|\n",
      "|        105|Fatima Al Rashid|fatima.alrashid5@...|Saudi Arabia|       2025-10-15|\n",
      "+-----------+----------------+--------------------+------------+-----------------+\n",
      "only showing top 5 rows\n"
     ]
    }
   ],
   "source": [
    "df_Customer = spark.read.parquet(\"abfss://retailsdb@hellooodb.dfs.core.windows.net/Raw_Data/MohammedHameds/Retails_Project/refs/heads/main/dataset/customers.parquet\")\n",
    "df_Customer.show(5)"
   ]
  },
  {
   "cell_type": "code",
   "execution_count": 0,
   "metadata": {
    "application/vnd.databricks.v1+cell": {
     "cellMetadata": {
      "byteLimit": 2048000,
      "rowLimit": 10000
     },
     "inputWidgets": {},
     "nuid": "c1f4e251-fead-486c-b0ea-895bde9d975c",
     "showTitle": false,
     "tableResultSettingsMap": {},
     "title": ""
    }
   },
   "outputs": [],
   "source": [
    "df_store.write.mode(\"overwrite\").saveAsTable(\"polin.sales.store_bronze\")\n",
    "df_transaction.write.mode(\"overwrite\").saveAsTable(\"polin.sales.transaction_bronze\")\n",
    "df_products.write.mode(\"overwrite\").saveAsTable(\"polin.sales.product_bronze\")\n",
    "df_Customer.write.mode(\"overwrite\").saveAsTable(\"polin.sales.customer_bronze\")"
   ]
  },
  {
   "cell_type": "code",
   "execution_count": 0,
   "metadata": {
    "application/vnd.databricks.v1+cell": {
     "cellMetadata": {
      "byteLimit": 2048000,
      "rowLimit": 10000
     },
     "inputWidgets": {},
     "nuid": "c3c77e99-8d4d-40d5-8e90-ab6b5a714352",
     "showTitle": false,
     "tableResultSettingsMap": {},
     "title": ""
    }
   },
   "outputs": [
    {
     "name": "stdout",
     "output_type": "stream",
     "text": [
      "root\n",
      " |-- customer_id: long (nullable = true)\n",
      " |-- full_name: string (nullable = true)\n",
      " |-- email: string (nullable = true)\n",
      " |-- country: string (nullable = true)\n",
      " |-- registration_date: string (nullable = true)\n",
      "\n"
     ]
    }
   ],
   "source": [
    "df_Customer.printSchema()"
   ]
  },
  {
   "cell_type": "code",
   "execution_count": 0,
   "metadata": {
    "application/vnd.databricks.v1+cell": {
     "cellMetadata": {
      "byteLimit": 2048000,
      "rowLimit": 10000
     },
     "inputWidgets": {},
     "nuid": "92710fbc-becd-4cc4-a6c6-4af9216b680a",
     "showTitle": false,
     "tableResultSettingsMap": {},
     "title": ""
    }
   },
   "outputs": [],
   "source": [
    "from pyspark.sql.functions import col, sum , count, countDistinct, first"
   ]
  },
  {
   "cell_type": "code",
   "execution_count": 0,
   "metadata": {
    "application/vnd.databricks.v1+cell": {
     "cellMetadata": {
      "byteLimit": 2048000,
      "rowLimit": 10000
     },
     "inputWidgets": {},
     "nuid": "db0f7e6f-9633-4398-8d07-0aa7d67d620d",
     "showTitle": false,
     "tableResultSettingsMap": {},
     "title": ""
    }
   },
   "outputs": [
    {
     "name": "stdout",
     "output_type": "stream",
     "text": [
      "root\n",
      " |-- customer_id: integer (nullable = true)\n",
      " |-- full_name: string (nullable = true)\n",
      " |-- email: string (nullable = true)\n",
      " |-- country: string (nullable = true)\n",
      " |-- registration_date: date (nullable = true)\n",
      "\n"
     ]
    }
   ],
   "source": [
    "df_Customer = df_Customer.select(\n",
    "    col(\"customer_id\").cast(\"int\"),\n",
    "    col(\"full_name\"),\n",
    "    col(\"email\"),\n",
    "    col(\"country\"),\n",
    "    col(\"registration_date\").cast(\"date\")\n",
    ")\n",
    "df_Customer.printSchema()"
   ]
  },
  {
   "cell_type": "code",
   "execution_count": 0,
   "metadata": {
    "application/vnd.databricks.v1+cell": {
     "cellMetadata": {
      "byteLimit": 2048000,
      "rowLimit": 10000
     },
     "inputWidgets": {},
     "nuid": "e0dfe933-bd52-4953-87c4-c00ef6c6aa84",
     "showTitle": false,
     "tableResultSettingsMap": {},
     "title": ""
    }
   },
   "outputs": [
    {
     "name": "stdout",
     "output_type": "stream",
     "text": [
      "root\n",
      " |-- product_id: integer (nullable = true)\n",
      " |-- product_name: string (nullable = true)\n",
      " |-- category: string (nullable = true)\n",
      " |-- price: integer (nullable = true)\n",
      "\n"
     ]
    }
   ],
   "source": [
    "df_products.printSchema()"
   ]
  },
  {
   "cell_type": "code",
   "execution_count": 0,
   "metadata": {
    "application/vnd.databricks.v1+cell": {
     "cellMetadata": {
      "byteLimit": 2048000,
      "rowLimit": 10000
     },
     "inputWidgets": {},
     "nuid": "a96b240a-2c0a-4413-b3c6-8bb21619cbcc",
     "showTitle": false,
     "tableResultSettingsMap": {},
     "title": ""
    }
   },
   "outputs": [
    {
     "name": "stdout",
     "output_type": "stream",
     "text": [
      "root\n",
      " |-- transaction_id: integer (nullable = true)\n",
      " |-- customer_id: integer (nullable = true)\n",
      " |-- product_id: integer (nullable = true)\n",
      " |-- store_id: integer (nullable = true)\n",
      " |-- quantity: integer (nullable = true)\n",
      " |-- transaction_date: date (nullable = true)\n",
      "\n"
     ]
    }
   ],
   "source": [
    "df_transaction.printSchema()"
   ]
  },
  {
   "cell_type": "code",
   "execution_count": 0,
   "metadata": {
    "application/vnd.databricks.v1+cell": {
     "cellMetadata": {
      "byteLimit": 2048000,
      "rowLimit": 10000
     },
     "inputWidgets": {},
     "nuid": "5c7e6464-270d-4d29-b0d9-428aa5b641f6",
     "showTitle": false,
     "tableResultSettingsMap": {},
     "title": ""
    }
   },
   "outputs": [
    {
     "data": {
      "text/html": [
       "<style scoped>\n",
       "  .table-result-container {\n",
       "    max-height: 300px;\n",
       "    overflow: auto;\n",
       "  }\n",
       "  table, th, td {\n",
       "    border: 1px solid black;\n",
       "    border-collapse: collapse;\n",
       "  }\n",
       "  th, td {\n",
       "    padding: 5px;\n",
       "  }\n",
       "  th {\n",
       "    text-align: left;\n",
       "  }\n",
       "</style><div class='table-result-container'><table class='table-result'><thead style='background-color: white'><tr><th>store_id</th><th>product_id</th><th>customer_id</th><th>transaction_id</th><th>quantity</th><th>transaction_date</th><th>full_name</th><th>email</th><th>country</th><th>registration_date</th><th>product_name</th><th>category</th><th>price</th><th>store_name</th><th>location</th><th>total_amount</th></tr></thead><tbody><tr><td>3</td><td>8</td><td>101</td><td>58</td><td>3</td><td>2025-05-25</td><td>Ahmed Khaled</td><td>ahmed.khaled1@gmail.com</td><td>Egypt</td><td>2025-10-16</td><td>Desk Organizer</td><td>Accessories</td><td>399</td><td>Tech World Outlet</td><td>Qatar</td><td>1197</td></tr><tr><td>4</td><td>9</td><td>102</td><td>59</td><td>5</td><td>2025-05-27</td><td>Sara Al Mansour</td><td>sara.almansour2@outlook.com</td><td>Saudi Arabia</td><td>2025-10-18</td><td>Dumbbell Set</td><td>Fitness</td><td>1999</td><td>Cairo Festival City Mall</td><td>Egypt</td><td>9995</td></tr><tr><td>5</td><td>10</td><td>103</td><td>60</td><td>1</td><td>2025-05-29</td><td>Layla Kazemi</td><td>layla.kazemi3@yahoo.com</td><td>UAE</td><td>2025-10-19</td><td>Pen Drive 32GB</td><td>Electronics</td><td>599</td><td>Mega Plaza</td><td>Kuwait</td><td>599</td></tr><tr><td>1</td><td>1</td><td>104</td><td>61</td><td>2</td><td>2025-06-01</td><td>Omar Farouk</td><td>omar.farouk4@gmail.com</td><td>Egypt</td><td>2025-10-17</td><td>Wireless Mouse</td><td>Electronics</td><td>800</td><td>City Mall Store</td><td>UAE</td><td>1600</td></tr><tr><td>2</td><td>2</td><td>105</td><td>62</td><td>3</td><td>2025-06-03</td><td>Fatima Al Rashid</td><td>fatima.alrashid5@hotmail.com</td><td>Saudi Arabia</td><td>2025-10-15</td><td>Bluetooth Speaker</td><td>Electronics</td><td>1200</td><td>High Street Store</td><td>Saudi Arabia</td><td>3600</td></tr><tr><td>3</td><td>3</td><td>106</td><td>63</td><td>4</td><td>2025-06-05</td><td>Yousef Nasser</td><td>yousef.nasser6@gmail.com</td><td>UAE</td><td>2025-10-16</td><td>Yoga Mat</td><td>Fitness</td><td>499</td><td>Tech World Outlet</td><td>Qatar</td><td>1996</td></tr><tr><td>4</td><td>4</td><td>107</td><td>64</td><td>5</td><td>2025-06-07</td><td>Mona Hossam</td><td>mona.hossam7@yahoo.com</td><td>Egypt</td><td>2025-10-18</td><td>Laptop Stand</td><td>Accessories</td><td>999</td><td>Cairo Festival City Mall</td><td>Egypt</td><td>4995</td></tr><tr><td>5</td><td>5</td><td>108</td><td>65</td><td>1</td><td>2025-06-09</td><td>Hassan Al Saud</td><td>hassan.alsaud8@outlook.com</td><td>Saudi Arabia</td><td>2025-10-19</td><td>Notebook Set</td><td>Stationery</td><td>149</td><td>Mega Plaza</td><td>Kuwait</td><td>149</td></tr><tr><td>1</td><td>6</td><td>109</td><td>66</td><td>2</td><td>2025-06-11</td><td>Ayesha Khan</td><td>ayesha.khan9@gmail.com</td><td>UAE</td><td>2025-10-15</td><td>Water Bottle</td><td>Fitness</td><td>299</td><td>City Mall Store</td><td>UAE</td><td>598</td></tr><tr><td>2</td><td>7</td><td>110</td><td>67</td><td>3</td><td>2025-06-13</td><td>Tamer Adel</td><td>tamer.adel10@hotmail.com</td><td>Egypt</td><td>2025-10-17</td><td>Smartwatch</td><td>Electronics</td><td>4999</td><td>High Street Store</td><td>Saudi Arabia</td><td>14997</td></tr><tr><td>3</td><td>8</td><td>111</td><td>68</td><td>4</td><td>2025-06-15</td><td>Rania Saad</td><td>rania.saad11@gmail.com</td><td>Saudi Arabia</td><td>2025-10-16</td><td>Desk Organizer</td><td>Accessories</td><td>399</td><td>Tech World Outlet</td><td>Qatar</td><td>1596</td></tr><tr><td>4</td><td>9</td><td>112</td><td>69</td><td>5</td><td>2025-06-17</td><td>Karim Hamed</td><td>karim.hamed12@yahoo.com</td><td>UAE</td><td>2025-10-18</td><td>Dumbbell Set</td><td>Fitness</td><td>1999</td><td>Cairo Festival City Mall</td><td>Egypt</td><td>9995</td></tr><tr><td>5</td><td>10</td><td>113</td><td>70</td><td>1</td><td>2025-06-19</td><td>Laila Fouad</td><td>laila.fouad13@gmail.com</td><td>Egypt</td><td>2025-10-19</td><td>Pen Drive 32GB</td><td>Electronics</td><td>599</td><td>Mega Plaza</td><td>Kuwait</td><td>599</td></tr><tr><td>1</td><td>1</td><td>114</td><td>71</td><td>3</td><td>2025-06-21</td><td>Sami Al Obaid</td><td>sami.alobaid14@outlook.com</td><td>Saudi Arabia</td><td>2025-10-15</td><td>Wireless Mouse</td><td>Electronics</td><td>800</td><td>City Mall Store</td><td>UAE</td><td>2400</td></tr><tr><td>2</td><td>2</td><td>115</td><td>72</td><td>2</td><td>2025-06-23</td><td>Dina Samir</td><td>dina.samir15@hotmail.com</td><td>UAE</td><td>2025-10-17</td><td>Bluetooth Speaker</td><td>Electronics</td><td>1200</td><td>High Street Store</td><td>Saudi Arabia</td><td>2400</td></tr><tr><td>3</td><td>3</td><td>116</td><td>73</td><td>1</td><td>2025-06-25</td><td>Adel Nabil</td><td>adel.nabil16@gmail.com</td><td>Egypt</td><td>2025-10-16</td><td>Yoga Mat</td><td>Fitness</td><td>499</td><td>Tech World Outlet</td><td>Qatar</td><td>499</td></tr><tr><td>4</td><td>4</td><td>117</td><td>74</td><td>4</td><td>2025-06-27</td><td>Mariam Al Farsi</td><td>mariam.alfarsi17@outlook.com</td><td>Saudi Arabia</td><td>2025-10-18</td><td>Laptop Stand</td><td>Accessories</td><td>999</td><td>Cairo Festival City Mall</td><td>Egypt</td><td>3996</td></tr><tr><td>5</td><td>5</td><td>118</td><td>75</td><td>5</td><td>2025-06-29</td><td>Omar Al Mazrouei</td><td>omar.almazrouei18@yahoo.com</td><td>UAE</td><td>2025-10-19</td><td>Notebook Set</td><td>Stationery</td><td>149</td><td>Mega Plaza</td><td>Kuwait</td><td>745</td></tr><tr><td>1</td><td>6</td><td>119</td><td>76</td><td>2</td><td>2025-07-01</td><td>Nour Khalifa</td><td>nour.khalifa19@gmail.com</td><td>Egypt</td><td>2025-10-15</td><td>Water Bottle</td><td>Fitness</td><td>299</td><td>City Mall Store</td><td>UAE</td><td>598</td></tr><tr><td>2</td><td>7</td><td>120</td><td>77</td><td>3</td><td>2025-07-03</td><td>Yara Saleh</td><td>yara.saleh20@hotmail.com</td><td>Saudi Arabia</td><td>2025-10-17</td><td>Smartwatch</td><td>Electronics</td><td>4999</td><td>High Street Store</td><td>Saudi Arabia</td><td>14997</td></tr><tr><td>3</td><td>8</td><td>121</td><td>78</td><td>4</td><td>2025-07-05</td><td>Tariq Hassan</td><td>tariq.hassan21@gmail.com</td><td>UAE</td><td>2025-10-16</td><td>Desk Organizer</td><td>Accessories</td><td>399</td><td>Tech World Outlet</td><td>Qatar</td><td>1596</td></tr><tr><td>4</td><td>9</td><td>122</td><td>79</td><td>1</td><td>2025-07-07</td><td>Lina Abdul</td><td>lina.abdul22@outlook.com</td><td>Egypt</td><td>2025-10-18</td><td>Dumbbell Set</td><td>Fitness</td><td>1999</td><td>Cairo Festival City Mall</td><td>Egypt</td><td>1999</td></tr><tr><td>5</td><td>10</td><td>123</td><td>80</td><td>2</td><td>2025-07-09</td><td>Rami Al Zahrani</td><td>rami.alzahrani23@yahoo.com</td><td>Saudi Arabia</td><td>2025-10-19</td><td>Pen Drive 32GB</td><td>Electronics</td><td>599</td><td>Mega Plaza</td><td>Kuwait</td><td>1198</td></tr><tr><td>4</td><td>4</td><td>124</td><td>54</td><td>5</td><td>2025-05-17</td><td>Samar Fouad</td><td>samar.fouad24@gmail.com</td><td>UAE</td><td>2025-10-15</td><td>Laptop Stand</td><td>Accessories</td><td>999</td><td>Cairo Festival City Mall</td><td>Egypt</td><td>4995</td></tr><tr><td>5</td><td>5</td><td>125</td><td>55</td><td>1</td><td>2025-05-19</td><td>Huda Nasser</td><td>huda.nasser25@hotmail.com</td><td>Egypt</td><td>2025-10-17</td><td>Notebook Set</td><td>Stationery</td><td>149</td><td>Mega Plaza</td><td>Kuwait</td><td>149</td></tr><tr><td>1</td><td>6</td><td>126</td><td>56</td><td>4</td><td>2025-05-21</td><td>Mohammed Al Amiri</td><td>mohammed.alamiri26@gmail.com</td><td>Saudi Arabia</td><td>2025-10-16</td><td>Water Bottle</td><td>Fitness</td><td>299</td><td>City Mall Store</td><td>UAE</td><td>1196</td></tr><tr><td>2</td><td>7</td><td>127</td><td>57</td><td>2</td><td>2025-05-23</td><td>Leila Hassan</td><td>leila.hassan27@outlook.com</td><td>UAE</td><td>2025-10-18</td><td>Smartwatch</td><td>Electronics</td><td>4999</td><td>High Street Store</td><td>Saudi Arabia</td><td>9998</td></tr><tr><td>1</td><td>1</td><td>101</td><td>31</td><td>3</td><td>2025-04-01</td><td>Ahmed Khaled</td><td>ahmed.khaled1@gmail.com</td><td>Egypt</td><td>2025-10-16</td><td>Wireless Mouse</td><td>Electronics</td><td>800</td><td>City Mall Store</td><td>UAE</td><td>2400</td></tr><tr><td>2</td><td>2</td><td>102</td><td>32</td><td>2</td><td>2025-04-03</td><td>Sara Al Mansour</td><td>sara.almansour2@outlook.com</td><td>Saudi Arabia</td><td>2025-10-18</td><td>Bluetooth Speaker</td><td>Electronics</td><td>1200</td><td>High Street Store</td><td>Saudi Arabia</td><td>2400</td></tr><tr><td>3</td><td>3</td><td>103</td><td>33</td><td>1</td><td>2025-04-05</td><td>Layla Kazemi</td><td>layla.kazemi3@yahoo.com</td><td>UAE</td><td>2025-10-19</td><td>Yoga Mat</td><td>Fitness</td><td>499</td><td>Tech World Outlet</td><td>Qatar</td><td>499</td></tr><tr><td>4</td><td>4</td><td>104</td><td>34</td><td>5</td><td>2025-04-07</td><td>Omar Farouk</td><td>omar.farouk4@gmail.com</td><td>Egypt</td><td>2025-10-17</td><td>Laptop Stand</td><td>Accessories</td><td>999</td><td>Cairo Festival City Mall</td><td>Egypt</td><td>4995</td></tr><tr><td>5</td><td>5</td><td>105</td><td>35</td><td>2</td><td>2025-04-09</td><td>Fatima Al Rashid</td><td>fatima.alrashid5@hotmail.com</td><td>Saudi Arabia</td><td>2025-10-15</td><td>Notebook Set</td><td>Stationery</td><td>149</td><td>Mega Plaza</td><td>Kuwait</td><td>298</td></tr><tr><td>1</td><td>6</td><td>106</td><td>36</td><td>4</td><td>2025-04-11</td><td>Yousef Nasser</td><td>yousef.nasser6@gmail.com</td><td>UAE</td><td>2025-10-16</td><td>Water Bottle</td><td>Fitness</td><td>299</td><td>City Mall Store</td><td>UAE</td><td>1196</td></tr><tr><td>2</td><td>7</td><td>107</td><td>37</td><td>1</td><td>2025-04-13</td><td>Mona Hossam</td><td>mona.hossam7@yahoo.com</td><td>Egypt</td><td>2025-10-18</td><td>Smartwatch</td><td>Electronics</td><td>4999</td><td>High Street Store</td><td>Saudi Arabia</td><td>4999</td></tr><tr><td>3</td><td>8</td><td>108</td><td>38</td><td>3</td><td>2025-04-15</td><td>Hassan Al Saud</td><td>hassan.alsaud8@outlook.com</td><td>Saudi Arabia</td><td>2025-10-19</td><td>Desk Organizer</td><td>Accessories</td><td>399</td><td>Tech World Outlet</td><td>Qatar</td><td>1197</td></tr><tr><td>4</td><td>9</td><td>109</td><td>39</td><td>2</td><td>2025-04-17</td><td>Ayesha Khan</td><td>ayesha.khan9@gmail.com</td><td>UAE</td><td>2025-10-15</td><td>Dumbbell Set</td><td>Fitness</td><td>1999</td><td>Cairo Festival City Mall</td><td>Egypt</td><td>3998</td></tr><tr><td>5</td><td>10</td><td>110</td><td>40</td><td>5</td><td>2025-04-19</td><td>Tamer Adel</td><td>tamer.adel10@hotmail.com</td><td>Egypt</td><td>2025-10-17</td><td>Pen Drive 32GB</td><td>Electronics</td><td>599</td><td>Mega Plaza</td><td>Kuwait</td><td>2995</td></tr><tr><td>1</td><td>1</td><td>111</td><td>41</td><td>1</td><td>2025-04-21</td><td>Rania Saad</td><td>rania.saad11@gmail.com</td><td>Saudi Arabia</td><td>2025-10-16</td><td>Wireless Mouse</td><td>Electronics</td><td>800</td><td>City Mall Store</td><td>UAE</td><td>800</td></tr><tr><td>2</td><td>2</td><td>112</td><td>42</td><td>4</td><td>2025-04-23</td><td>Karim Hamed</td><td>karim.hamed12@yahoo.com</td><td>UAE</td><td>2025-10-18</td><td>Bluetooth Speaker</td><td>Electronics</td><td>1200</td><td>High Street Store</td><td>Saudi Arabia</td><td>4800</td></tr><tr><td>3</td><td>3</td><td>113</td><td>43</td><td>2</td><td>2025-04-25</td><td>Laila Fouad</td><td>laila.fouad13@gmail.com</td><td>Egypt</td><td>2025-10-19</td><td>Yoga Mat</td><td>Fitness</td><td>499</td><td>Tech World Outlet</td><td>Qatar</td><td>998</td></tr><tr><td>4</td><td>4</td><td>114</td><td>44</td><td>3</td><td>2025-04-27</td><td>Sami Al Obaid</td><td>sami.alobaid14@outlook.com</td><td>Saudi Arabia</td><td>2025-10-15</td><td>Laptop Stand</td><td>Accessories</td><td>999</td><td>Cairo Festival City Mall</td><td>Egypt</td><td>2997</td></tr><tr><td>5</td><td>5</td><td>115</td><td>45</td><td>1</td><td>2025-04-29</td><td>Dina Samir</td><td>dina.samir15@hotmail.com</td><td>UAE</td><td>2025-10-17</td><td>Notebook Set</td><td>Stationery</td><td>149</td><td>Mega Plaza</td><td>Kuwait</td><td>149</td></tr><tr><td>1</td><td>6</td><td>116</td><td>46</td><td>2</td><td>2025-05-01</td><td>Adel Nabil</td><td>adel.nabil16@gmail.com</td><td>Egypt</td><td>2025-10-16</td><td>Water Bottle</td><td>Fitness</td><td>299</td><td>City Mall Store</td><td>UAE</td><td>598</td></tr><tr><td>2</td><td>7</td><td>117</td><td>47</td><td>5</td><td>2025-05-03</td><td>Mariam Al Farsi</td><td>mariam.alfarsi17@outlook.com</td><td>Saudi Arabia</td><td>2025-10-18</td><td>Smartwatch</td><td>Electronics</td><td>4999</td><td>High Street Store</td><td>Saudi Arabia</td><td>24995</td></tr><tr><td>3</td><td>8</td><td>118</td><td>48</td><td>3</td><td>2025-05-05</td><td>Omar Al Mazrouei</td><td>omar.almazrouei18@yahoo.com</td><td>UAE</td><td>2025-10-19</td><td>Desk Organizer</td><td>Accessories</td><td>399</td><td>Tech World Outlet</td><td>Qatar</td><td>1197</td></tr><tr><td>4</td><td>9</td><td>119</td><td>49</td><td>4</td><td>2025-05-07</td><td>Nour Khalifa</td><td>nour.khalifa19@gmail.com</td><td>Egypt</td><td>2025-10-15</td><td>Dumbbell Set</td><td>Fitness</td><td>1999</td><td>Cairo Festival City Mall</td><td>Egypt</td><td>7996</td></tr><tr><td>5</td><td>10</td><td>120</td><td>50</td><td>2</td><td>2025-05-09</td><td>Yara Saleh</td><td>yara.saleh20@hotmail.com</td><td>Saudi Arabia</td><td>2025-10-17</td><td>Pen Drive 32GB</td><td>Electronics</td><td>599</td><td>Mega Plaza</td><td>Kuwait</td><td>1198</td></tr><tr><td>1</td><td>1</td><td>121</td><td>51</td><td>3</td><td>2025-05-11</td><td>Tariq Hassan</td><td>tariq.hassan21@gmail.com</td><td>UAE</td><td>2025-10-16</td><td>Wireless Mouse</td><td>Electronics</td><td>800</td><td>City Mall Store</td><td>UAE</td><td>2400</td></tr><tr><td>2</td><td>2</td><td>122</td><td>52</td><td>4</td><td>2025-05-13</td><td>Lina Abdul</td><td>lina.abdul22@outlook.com</td><td>Egypt</td><td>2025-10-18</td><td>Bluetooth Speaker</td><td>Electronics</td><td>1200</td><td>High Street Store</td><td>Saudi Arabia</td><td>4800</td></tr><tr><td>3</td><td>3</td><td>123</td><td>53</td><td>2</td><td>2025-05-15</td><td>Rami Al Zahrani</td><td>rami.alzahrani23@yahoo.com</td><td>Saudi Arabia</td><td>2025-10-19</td><td>Yoga Mat</td><td>Fitness</td><td>499</td><td>Tech World Outlet</td><td>Qatar</td><td>998</td></tr></tbody></table></div>"
      ]
     },
     "metadata": {
      "application/vnd.databricks.v1+output": {
       "addedWidgets": {},
       "aggData": [],
       "aggError": "",
       "aggOverflow": false,
       "aggSchema": [],
       "aggSeriesLimitReached": false,
       "aggType": "",
       "arguments": {},
       "columnCustomDisplayInfos": {},
       "data": [
        [
         3,
         8,
         101,
         58,
         3,
         "2025-05-25",
         "Ahmed Khaled",
         "ahmed.khaled1@gmail.com",
         "Egypt",
         "2025-10-16",
         "Desk Organizer",
         "Accessories",
         399,
         "Tech World Outlet",
         "Qatar",
         1197
        ],
        [
         4,
         9,
         102,
         59,
         5,
         "2025-05-27",
         "Sara Al Mansour",
         "sara.almansour2@outlook.com",
         "Saudi Arabia",
         "2025-10-18",
         "Dumbbell Set",
         "Fitness",
         1999,
         "Cairo Festival City Mall",
         "Egypt",
         9995
        ],
        [
         5,
         10,
         103,
         60,
         1,
         "2025-05-29",
         "Layla Kazemi",
         "layla.kazemi3@yahoo.com",
         "UAE",
         "2025-10-19",
         "Pen Drive 32GB",
         "Electronics",
         599,
         "Mega Plaza",
         "Kuwait",
         599
        ],
        [
         1,
         1,
         104,
         61,
         2,
         "2025-06-01",
         "Omar Farouk",
         "omar.farouk4@gmail.com",
         "Egypt",
         "2025-10-17",
         "Wireless Mouse",
         "Electronics",
         800,
         "City Mall Store",
         "UAE",
         1600
        ],
        [
         2,
         2,
         105,
         62,
         3,
         "2025-06-03",
         "Fatima Al Rashid",
         "fatima.alrashid5@hotmail.com",
         "Saudi Arabia",
         "2025-10-15",
         "Bluetooth Speaker",
         "Electronics",
         1200,
         "High Street Store",
         "Saudi Arabia",
         3600
        ],
        [
         3,
         3,
         106,
         63,
         4,
         "2025-06-05",
         "Yousef Nasser",
         "yousef.nasser6@gmail.com",
         "UAE",
         "2025-10-16",
         "Yoga Mat",
         "Fitness",
         499,
         "Tech World Outlet",
         "Qatar",
         1996
        ],
        [
         4,
         4,
         107,
         64,
         5,
         "2025-06-07",
         "Mona Hossam",
         "mona.hossam7@yahoo.com",
         "Egypt",
         "2025-10-18",
         "Laptop Stand",
         "Accessories",
         999,
         "Cairo Festival City Mall",
         "Egypt",
         4995
        ],
        [
         5,
         5,
         108,
         65,
         1,
         "2025-06-09",
         "Hassan Al Saud",
         "hassan.alsaud8@outlook.com",
         "Saudi Arabia",
         "2025-10-19",
         "Notebook Set",
         "Stationery",
         149,
         "Mega Plaza",
         "Kuwait",
         149
        ],
        [
         1,
         6,
         109,
         66,
         2,
         "2025-06-11",
         "Ayesha Khan",
         "ayesha.khan9@gmail.com",
         "UAE",
         "2025-10-15",
         "Water Bottle",
         "Fitness",
         299,
         "City Mall Store",
         "UAE",
         598
        ],
        [
         2,
         7,
         110,
         67,
         3,
         "2025-06-13",
         "Tamer Adel",
         "tamer.adel10@hotmail.com",
         "Egypt",
         "2025-10-17",
         "Smartwatch",
         "Electronics",
         4999,
         "High Street Store",
         "Saudi Arabia",
         14997
        ],
        [
         3,
         8,
         111,
         68,
         4,
         "2025-06-15",
         "Rania Saad",
         "rania.saad11@gmail.com",
         "Saudi Arabia",
         "2025-10-16",
         "Desk Organizer",
         "Accessories",
         399,
         "Tech World Outlet",
         "Qatar",
         1596
        ],
        [
         4,
         9,
         112,
         69,
         5,
         "2025-06-17",
         "Karim Hamed",
         "karim.hamed12@yahoo.com",
         "UAE",
         "2025-10-18",
         "Dumbbell Set",
         "Fitness",
         1999,
         "Cairo Festival City Mall",
         "Egypt",
         9995
        ],
        [
         5,
         10,
         113,
         70,
         1,
         "2025-06-19",
         "Laila Fouad",
         "laila.fouad13@gmail.com",
         "Egypt",
         "2025-10-19",
         "Pen Drive 32GB",
         "Electronics",
         599,
         "Mega Plaza",
         "Kuwait",
         599
        ],
        [
         1,
         1,
         114,
         71,
         3,
         "2025-06-21",
         "Sami Al Obaid",
         "sami.alobaid14@outlook.com",
         "Saudi Arabia",
         "2025-10-15",
         "Wireless Mouse",
         "Electronics",
         800,
         "City Mall Store",
         "UAE",
         2400
        ],
        [
         2,
         2,
         115,
         72,
         2,
         "2025-06-23",
         "Dina Samir",
         "dina.samir15@hotmail.com",
         "UAE",
         "2025-10-17",
         "Bluetooth Speaker",
         "Electronics",
         1200,
         "High Street Store",
         "Saudi Arabia",
         2400
        ],
        [
         3,
         3,
         116,
         73,
         1,
         "2025-06-25",
         "Adel Nabil",
         "adel.nabil16@gmail.com",
         "Egypt",
         "2025-10-16",
         "Yoga Mat",
         "Fitness",
         499,
         "Tech World Outlet",
         "Qatar",
         499
        ],
        [
         4,
         4,
         117,
         74,
         4,
         "2025-06-27",
         "Mariam Al Farsi",
         "mariam.alfarsi17@outlook.com",
         "Saudi Arabia",
         "2025-10-18",
         "Laptop Stand",
         "Accessories",
         999,
         "Cairo Festival City Mall",
         "Egypt",
         3996
        ],
        [
         5,
         5,
         118,
         75,
         5,
         "2025-06-29",
         "Omar Al Mazrouei",
         "omar.almazrouei18@yahoo.com",
         "UAE",
         "2025-10-19",
         "Notebook Set",
         "Stationery",
         149,
         "Mega Plaza",
         "Kuwait",
         745
        ],
        [
         1,
         6,
         119,
         76,
         2,
         "2025-07-01",
         "Nour Khalifa",
         "nour.khalifa19@gmail.com",
         "Egypt",
         "2025-10-15",
         "Water Bottle",
         "Fitness",
         299,
         "City Mall Store",
         "UAE",
         598
        ],
        [
         2,
         7,
         120,
         77,
         3,
         "2025-07-03",
         "Yara Saleh",
         "yara.saleh20@hotmail.com",
         "Saudi Arabia",
         "2025-10-17",
         "Smartwatch",
         "Electronics",
         4999,
         "High Street Store",
         "Saudi Arabia",
         14997
        ],
        [
         3,
         8,
         121,
         78,
         4,
         "2025-07-05",
         "Tariq Hassan",
         "tariq.hassan21@gmail.com",
         "UAE",
         "2025-10-16",
         "Desk Organizer",
         "Accessories",
         399,
         "Tech World Outlet",
         "Qatar",
         1596
        ],
        [
         4,
         9,
         122,
         79,
         1,
         "2025-07-07",
         "Lina Abdul",
         "lina.abdul22@outlook.com",
         "Egypt",
         "2025-10-18",
         "Dumbbell Set",
         "Fitness",
         1999,
         "Cairo Festival City Mall",
         "Egypt",
         1999
        ],
        [
         5,
         10,
         123,
         80,
         2,
         "2025-07-09",
         "Rami Al Zahrani",
         "rami.alzahrani23@yahoo.com",
         "Saudi Arabia",
         "2025-10-19",
         "Pen Drive 32GB",
         "Electronics",
         599,
         "Mega Plaza",
         "Kuwait",
         1198
        ],
        [
         4,
         4,
         124,
         54,
         5,
         "2025-05-17",
         "Samar Fouad",
         "samar.fouad24@gmail.com",
         "UAE",
         "2025-10-15",
         "Laptop Stand",
         "Accessories",
         999,
         "Cairo Festival City Mall",
         "Egypt",
         4995
        ],
        [
         5,
         5,
         125,
         55,
         1,
         "2025-05-19",
         "Huda Nasser",
         "huda.nasser25@hotmail.com",
         "Egypt",
         "2025-10-17",
         "Notebook Set",
         "Stationery",
         149,
         "Mega Plaza",
         "Kuwait",
         149
        ],
        [
         1,
         6,
         126,
         56,
         4,
         "2025-05-21",
         "Mohammed Al Amiri",
         "mohammed.alamiri26@gmail.com",
         "Saudi Arabia",
         "2025-10-16",
         "Water Bottle",
         "Fitness",
         299,
         "City Mall Store",
         "UAE",
         1196
        ],
        [
         2,
         7,
         127,
         57,
         2,
         "2025-05-23",
         "Leila Hassan",
         "leila.hassan27@outlook.com",
         "UAE",
         "2025-10-18",
         "Smartwatch",
         "Electronics",
         4999,
         "High Street Store",
         "Saudi Arabia",
         9998
        ],
        [
         1,
         1,
         101,
         31,
         3,
         "2025-04-01",
         "Ahmed Khaled",
         "ahmed.khaled1@gmail.com",
         "Egypt",
         "2025-10-16",
         "Wireless Mouse",
         "Electronics",
         800,
         "City Mall Store",
         "UAE",
         2400
        ],
        [
         2,
         2,
         102,
         32,
         2,
         "2025-04-03",
         "Sara Al Mansour",
         "sara.almansour2@outlook.com",
         "Saudi Arabia",
         "2025-10-18",
         "Bluetooth Speaker",
         "Electronics",
         1200,
         "High Street Store",
         "Saudi Arabia",
         2400
        ],
        [
         3,
         3,
         103,
         33,
         1,
         "2025-04-05",
         "Layla Kazemi",
         "layla.kazemi3@yahoo.com",
         "UAE",
         "2025-10-19",
         "Yoga Mat",
         "Fitness",
         499,
         "Tech World Outlet",
         "Qatar",
         499
        ],
        [
         4,
         4,
         104,
         34,
         5,
         "2025-04-07",
         "Omar Farouk",
         "omar.farouk4@gmail.com",
         "Egypt",
         "2025-10-17",
         "Laptop Stand",
         "Accessories",
         999,
         "Cairo Festival City Mall",
         "Egypt",
         4995
        ],
        [
         5,
         5,
         105,
         35,
         2,
         "2025-04-09",
         "Fatima Al Rashid",
         "fatima.alrashid5@hotmail.com",
         "Saudi Arabia",
         "2025-10-15",
         "Notebook Set",
         "Stationery",
         149,
         "Mega Plaza",
         "Kuwait",
         298
        ],
        [
         1,
         6,
         106,
         36,
         4,
         "2025-04-11",
         "Yousef Nasser",
         "yousef.nasser6@gmail.com",
         "UAE",
         "2025-10-16",
         "Water Bottle",
         "Fitness",
         299,
         "City Mall Store",
         "UAE",
         1196
        ],
        [
         2,
         7,
         107,
         37,
         1,
         "2025-04-13",
         "Mona Hossam",
         "mona.hossam7@yahoo.com",
         "Egypt",
         "2025-10-18",
         "Smartwatch",
         "Electronics",
         4999,
         "High Street Store",
         "Saudi Arabia",
         4999
        ],
        [
         3,
         8,
         108,
         38,
         3,
         "2025-04-15",
         "Hassan Al Saud",
         "hassan.alsaud8@outlook.com",
         "Saudi Arabia",
         "2025-10-19",
         "Desk Organizer",
         "Accessories",
         399,
         "Tech World Outlet",
         "Qatar",
         1197
        ],
        [
         4,
         9,
         109,
         39,
         2,
         "2025-04-17",
         "Ayesha Khan",
         "ayesha.khan9@gmail.com",
         "UAE",
         "2025-10-15",
         "Dumbbell Set",
         "Fitness",
         1999,
         "Cairo Festival City Mall",
         "Egypt",
         3998
        ],
        [
         5,
         10,
         110,
         40,
         5,
         "2025-04-19",
         "Tamer Adel",
         "tamer.adel10@hotmail.com",
         "Egypt",
         "2025-10-17",
         "Pen Drive 32GB",
         "Electronics",
         599,
         "Mega Plaza",
         "Kuwait",
         2995
        ],
        [
         1,
         1,
         111,
         41,
         1,
         "2025-04-21",
         "Rania Saad",
         "rania.saad11@gmail.com",
         "Saudi Arabia",
         "2025-10-16",
         "Wireless Mouse",
         "Electronics",
         800,
         "City Mall Store",
         "UAE",
         800
        ],
        [
         2,
         2,
         112,
         42,
         4,
         "2025-04-23",
         "Karim Hamed",
         "karim.hamed12@yahoo.com",
         "UAE",
         "2025-10-18",
         "Bluetooth Speaker",
         "Electronics",
         1200,
         "High Street Store",
         "Saudi Arabia",
         4800
        ],
        [
         3,
         3,
         113,
         43,
         2,
         "2025-04-25",
         "Laila Fouad",
         "laila.fouad13@gmail.com",
         "Egypt",
         "2025-10-19",
         "Yoga Mat",
         "Fitness",
         499,
         "Tech World Outlet",
         "Qatar",
         998
        ],
        [
         4,
         4,
         114,
         44,
         3,
         "2025-04-27",
         "Sami Al Obaid",
         "sami.alobaid14@outlook.com",
         "Saudi Arabia",
         "2025-10-15",
         "Laptop Stand",
         "Accessories",
         999,
         "Cairo Festival City Mall",
         "Egypt",
         2997
        ],
        [
         5,
         5,
         115,
         45,
         1,
         "2025-04-29",
         "Dina Samir",
         "dina.samir15@hotmail.com",
         "UAE",
         "2025-10-17",
         "Notebook Set",
         "Stationery",
         149,
         "Mega Plaza",
         "Kuwait",
         149
        ],
        [
         1,
         6,
         116,
         46,
         2,
         "2025-05-01",
         "Adel Nabil",
         "adel.nabil16@gmail.com",
         "Egypt",
         "2025-10-16",
         "Water Bottle",
         "Fitness",
         299,
         "City Mall Store",
         "UAE",
         598
        ],
        [
         2,
         7,
         117,
         47,
         5,
         "2025-05-03",
         "Mariam Al Farsi",
         "mariam.alfarsi17@outlook.com",
         "Saudi Arabia",
         "2025-10-18",
         "Smartwatch",
         "Electronics",
         4999,
         "High Street Store",
         "Saudi Arabia",
         24995
        ],
        [
         3,
         8,
         118,
         48,
         3,
         "2025-05-05",
         "Omar Al Mazrouei",
         "omar.almazrouei18@yahoo.com",
         "UAE",
         "2025-10-19",
         "Desk Organizer",
         "Accessories",
         399,
         "Tech World Outlet",
         "Qatar",
         1197
        ],
        [
         4,
         9,
         119,
         49,
         4,
         "2025-05-07",
         "Nour Khalifa",
         "nour.khalifa19@gmail.com",
         "Egypt",
         "2025-10-15",
         "Dumbbell Set",
         "Fitness",
         1999,
         "Cairo Festival City Mall",
         "Egypt",
         7996
        ],
        [
         5,
         10,
         120,
         50,
         2,
         "2025-05-09",
         "Yara Saleh",
         "yara.saleh20@hotmail.com",
         "Saudi Arabia",
         "2025-10-17",
         "Pen Drive 32GB",
         "Electronics",
         599,
         "Mega Plaza",
         "Kuwait",
         1198
        ],
        [
         1,
         1,
         121,
         51,
         3,
         "2025-05-11",
         "Tariq Hassan",
         "tariq.hassan21@gmail.com",
         "UAE",
         "2025-10-16",
         "Wireless Mouse",
         "Electronics",
         800,
         "City Mall Store",
         "UAE",
         2400
        ],
        [
         2,
         2,
         122,
         52,
         4,
         "2025-05-13",
         "Lina Abdul",
         "lina.abdul22@outlook.com",
         "Egypt",
         "2025-10-18",
         "Bluetooth Speaker",
         "Electronics",
         1200,
         "High Street Store",
         "Saudi Arabia",
         4800
        ],
        [
         3,
         3,
         123,
         53,
         2,
         "2025-05-15",
         "Rami Al Zahrani",
         "rami.alzahrani23@yahoo.com",
         "Saudi Arabia",
         "2025-10-19",
         "Yoga Mat",
         "Fitness",
         499,
         "Tech World Outlet",
         "Qatar",
         998
        ]
       ],
       "datasetInfos": [],
       "dbfsResultPath": null,
       "isJsonSchema": true,
       "metadata": {},
       "overflow": false,
       "plotOptions": {
        "customPlotOptions": {},
        "displayType": "table",
        "pivotAggregation": null,
        "pivotColumns": null,
        "xColumns": null,
        "yColumns": null
       },
       "removedWidgets": [],
       "schema": [
        {
         "metadata": "{}",
         "name": "store_id",
         "type": "\"integer\""
        },
        {
         "metadata": "{}",
         "name": "product_id",
         "type": "\"integer\""
        },
        {
         "metadata": "{}",
         "name": "customer_id",
         "type": "\"integer\""
        },
        {
         "metadata": "{}",
         "name": "transaction_id",
         "type": "\"integer\""
        },
        {
         "metadata": "{}",
         "name": "quantity",
         "type": "\"integer\""
        },
        {
         "metadata": "{}",
         "name": "transaction_date",
         "type": "\"date\""
        },
        {
         "metadata": "{}",
         "name": "full_name",
         "type": "\"string\""
        },
        {
         "metadata": "{}",
         "name": "email",
         "type": "\"string\""
        },
        {
         "metadata": "{}",
         "name": "country",
         "type": "\"string\""
        },
        {
         "metadata": "{}",
         "name": "registration_date",
         "type": "\"date\""
        },
        {
         "metadata": "{}",
         "name": "product_name",
         "type": "\"string\""
        },
        {
         "metadata": "{}",
         "name": "category",
         "type": "\"string\""
        },
        {
         "metadata": "{}",
         "name": "price",
         "type": "\"integer\""
        },
        {
         "metadata": "{}",
         "name": "store_name",
         "type": "\"string\""
        },
        {
         "metadata": "{}",
         "name": "location",
         "type": "\"string\""
        },
        {
         "metadata": "{}",
         "name": "total_amount",
         "type": "\"integer\""
        }
       ],
       "type": "table"
      }
     },
     "output_type": "display_data"
    }
   ],
   "source": [
    "df_retails_silver = df_transaction.join(df_Customer,\"customer_id\").join(df_products,\"product_id\").join(df_store, \"store_id\").withColumn(\"total_amount\", col(\"quantity\") * col(\"price\"))\n",
    "display(df_retails_silver)"
   ]
  },
  {
   "cell_type": "code",
   "execution_count": 0,
   "metadata": {
    "application/vnd.databricks.v1+cell": {
     "cellMetadata": {
      "byteLimit": 2048000,
      "rowLimit": 10000
     },
     "inputWidgets": {},
     "nuid": "2071446f-7456-4ea8-8b9f-324c13799e63",
     "showTitle": false,
     "tableResultSettingsMap": {},
     "title": ""
    }
   },
   "outputs": [],
   "source": [
    "df_retails_silver.write.mode(\"overwrite\").saveAsTable(\"polin.sales.df_retails_silver\")"
   ]
  },
  {
   "cell_type": "code",
   "execution_count": 0,
   "metadata": {
    "application/vnd.databricks.v1+cell": {
     "cellMetadata": {
      "byteLimit": 2048000,
      "rowLimit": 10000
     },
     "inputWidgets": {},
     "nuid": "2a33c7ab-3b32-4a04-bf9e-3ed8af516605",
     "showTitle": false,
     "tableResultSettingsMap": {},
     "title": ""
    }
   },
   "outputs": [
    {
     "data": {
      "text/html": [
       "<style scoped>\n",
       "  .table-result-container {\n",
       "    max-height: 300px;\n",
       "    overflow: auto;\n",
       "  }\n",
       "  table, th, td {\n",
       "    border: 1px solid black;\n",
       "    border-collapse: collapse;\n",
       "  }\n",
       "  th, td {\n",
       "    padding: 5px;\n",
       "  }\n",
       "  th {\n",
       "    text-align: left;\n",
       "  }\n",
       "</style><div class='table-result-container'><table class='table-result'><thead style='background-color: white'><tr><th>country</th><th>Count_Of_Customrs</th></tr></thead><tbody><tr><td>Saudi Arabia</td><td>17</td></tr><tr><td>UAE</td><td>16</td></tr><tr><td>Egypt</td><td>17</td></tr></tbody></table></div>"
      ]
     },
     "metadata": {
      "application/vnd.databricks.v1+output": {
       "addedWidgets": {},
       "aggData": [],
       "aggError": "",
       "aggOverflow": false,
       "aggSchema": [],
       "aggSeriesLimitReached": false,
       "aggType": "",
       "arguments": {},
       "columnCustomDisplayInfos": {},
       "data": [
        [
         "Saudi Arabia",
         17
        ],
        [
         "UAE",
         16
        ],
        [
         "Egypt",
         17
        ]
       ],
       "datasetInfos": [],
       "dbfsResultPath": null,
       "isJsonSchema": true,
       "metadata": {},
       "overflow": false,
       "plotOptions": {
        "customPlotOptions": {},
        "displayType": "table",
        "pivotAggregation": null,
        "pivotColumns": null,
        "xColumns": null,
        "yColumns": null
       },
       "removedWidgets": [],
       "schema": [
        {
         "metadata": "{}",
         "name": "country",
         "type": "\"string\""
        },
        {
         "metadata": "{}",
         "name": "Count_Of_Customrs",
         "type": "\"long\""
        }
       ],
       "type": "table"
      }
     },
     "output_type": "display_data"
    }
   ],
   "source": [
    "df_country_customer = df_retails_silver.groupBy(\"country\").agg(count(\"customer_id\").alias(\"Count_Of_Customrs\"))\n",
    "display(df_country_customer)"
   ]
  },
  {
   "cell_type": "code",
   "execution_count": 0,
   "metadata": {
    "application/vnd.databricks.v1+cell": {
     "cellMetadata": {
      "byteLimit": 2048000,
      "rowLimit": 10000
     },
     "inputWidgets": {},
     "nuid": "bae596cf-91a7-4305-97da-9a3ae416da5d",
     "showTitle": false,
     "tableResultSettingsMap": {},
     "title": ""
    }
   },
   "outputs": [],
   "source": [
    "df_country_customer.write.mode(\"overwrite\").saveAsTable(\"polin.sales.country_customer_gold\")"
   ]
  },
  {
   "cell_type": "code",
   "execution_count": 0,
   "metadata": {
    "application/vnd.databricks.v1+cell": {
     "cellMetadata": {
      "byteLimit": 2048000,
      "rowLimit": 10000
     },
     "inputWidgets": {},
     "nuid": "31ee71ce-9fbc-4945-8db9-d81b023a078f",
     "showTitle": false,
     "tableResultSettingsMap": {},
     "title": ""
    }
   },
   "outputs": [
    {
     "data": {
      "text/html": [
       "<style scoped>\n",
       "  .table-result-container {\n",
       "    max-height: 300px;\n",
       "    overflow: auto;\n",
       "  }\n",
       "  table, th, td {\n",
       "    border: 1px solid black;\n",
       "    border-collapse: collapse;\n",
       "  }\n",
       "  th, td {\n",
       "    padding: 5px;\n",
       "  }\n",
       "  th {\n",
       "    text-align: left;\n",
       "  }\n",
       "</style><div class='table-result-container'><table class='table-result'><thead style='background-color: white'><tr><th>country</th><th>category</th><th>Count_transaction</th></tr></thead><tbody><tr><td>Saudi Arabia</td><td>Fitness</td><td>3</td></tr><tr><td>UAE</td><td>Stationery</td><td>2</td></tr><tr><td>UAE</td><td>Electronics</td><td>5</td></tr><tr><td>Egypt</td><td>Electronics</td><td>7</td></tr><tr><td>UAE</td><td>Fitness</td><td>6</td></tr><tr><td>Egypt</td><td>Accessories</td><td>3</td></tr><tr><td>Saudi Arabia</td><td>Accessories</td><td>4</td></tr><tr><td>Egypt</td><td>Fitness</td><td>6</td></tr><tr><td>Egypt</td><td>Stationery</td><td>1</td></tr><tr><td>Saudi Arabia</td><td>Electronics</td><td>8</td></tr><tr><td>UAE</td><td>Accessories</td><td>3</td></tr><tr><td>Saudi Arabia</td><td>Stationery</td><td>2</td></tr></tbody></table></div>"
      ]
     },
     "metadata": {
      "application/vnd.databricks.v1+output": {
       "addedWidgets": {},
       "aggData": [],
       "aggError": "",
       "aggOverflow": false,
       "aggSchema": [],
       "aggSeriesLimitReached": false,
       "aggType": "",
       "arguments": {},
       "columnCustomDisplayInfos": {},
       "data": [
        [
         "Saudi Arabia",
         "Fitness",
         3
        ],
        [
         "UAE",
         "Stationery",
         2
        ],
        [
         "UAE",
         "Electronics",
         5
        ],
        [
         "Egypt",
         "Electronics",
         7
        ],
        [
         "UAE",
         "Fitness",
         6
        ],
        [
         "Egypt",
         "Accessories",
         3
        ],
        [
         "Saudi Arabia",
         "Accessories",
         4
        ],
        [
         "Egypt",
         "Fitness",
         6
        ],
        [
         "Egypt",
         "Stationery",
         1
        ],
        [
         "Saudi Arabia",
         "Electronics",
         8
        ],
        [
         "UAE",
         "Accessories",
         3
        ],
        [
         "Saudi Arabia",
         "Stationery",
         2
        ]
       ],
       "datasetInfos": [],
       "dbfsResultPath": null,
       "isJsonSchema": true,
       "metadata": {},
       "overflow": false,
       "plotOptions": {
        "customPlotOptions": {},
        "displayType": "table",
        "pivotAggregation": null,
        "pivotColumns": null,
        "xColumns": null,
        "yColumns": null
       },
       "removedWidgets": [],
       "schema": [
        {
         "metadata": "{}",
         "name": "country",
         "type": "\"string\""
        },
        {
         "metadata": "{}",
         "name": "category",
         "type": "\"string\""
        },
        {
         "metadata": "{}",
         "name": "Count_transaction",
         "type": "\"long\""
        }
       ],
       "type": "table"
      }
     },
     "output_type": "display_data"
    }
   ],
   "source": [
    "df_Contry_transaction = df_retails_silver.groupBy(\"country\", \"category\").agg(count(\"transaction_id\").alias(\"Count_transaction\"))\n",
    "display(df_Contry_transaction)"
   ]
  },
  {
   "cell_type": "code",
   "execution_count": 0,
   "metadata": {
    "application/vnd.databricks.v1+cell": {
     "cellMetadata": {
      "byteLimit": 2048000,
      "rowLimit": 10000
     },
     "inputWidgets": {},
     "nuid": "73432f04-5a05-452d-960d-98ae2732101e",
     "showTitle": false,
     "tableResultSettingsMap": {},
     "title": ""
    }
   },
   "outputs": [],
   "source": [
    "df_Contry_transaction.write.mode(\"overwrite\").saveAsTable(\"polin.sales.Contry_transaction_gold\")"
   ]
  },
  {
   "cell_type": "code",
   "execution_count": 0,
   "metadata": {
    "application/vnd.databricks.v1+cell": {
     "cellMetadata": {
      "byteLimit": 2048000,
      "rowLimit": 10000
     },
     "inputWidgets": {},
     "nuid": "18b605ad-da42-4993-aa50-a86aede03b8b",
     "showTitle": false,
     "tableResultSettingsMap": {},
     "title": ""
    }
   },
   "outputs": [
    {
     "data": {
      "text/html": [
       "<style scoped>\n",
       "  .table-result-container {\n",
       "    max-height: 300px;\n",
       "    overflow: auto;\n",
       "  }\n",
       "  table, th, td {\n",
       "    border: 1px solid black;\n",
       "    border-collapse: collapse;\n",
       "  }\n",
       "  th, td {\n",
       "    padding: 5px;\n",
       "  }\n",
       "  th {\n",
       "    text-align: left;\n",
       "  }\n",
       "</style><div class='table-result-container'><table class='table-result'><thead style='background-color: white'><tr><th>country</th><th>product_name</th><th>total_amount</th></tr></thead><tbody><tr><td>Egypt</td><td>Smartwatch</td><td>19996</td></tr><tr><td>Egypt</td><td>Dumbbell Set</td><td>9995</td></tr><tr><td>Egypt</td><td>Laptop Stand</td><td>9990</td></tr><tr><td>Egypt</td><td>Bluetooth Speaker</td><td>4800</td></tr><tr><td>Egypt</td><td>Wireless Mouse</td><td>4000</td></tr><tr><td>Egypt</td><td>Pen Drive 32GB</td><td>3594</td></tr><tr><td>Egypt</td><td>Yoga Mat</td><td>1497</td></tr><tr><td>Egypt</td><td>Desk Organizer</td><td>1197</td></tr><tr><td>Egypt</td><td>Water Bottle</td><td>1196</td></tr><tr><td>Egypt</td><td>Notebook Set</td><td>149</td></tr><tr><td>Saudi Arabia</td><td>Smartwatch</td><td>39992</td></tr><tr><td>Saudi Arabia</td><td>Dumbbell Set</td><td>9995</td></tr><tr><td>Saudi Arabia</td><td>Laptop Stand</td><td>6993</td></tr><tr><td>Saudi Arabia</td><td>Bluetooth Speaker</td><td>6000</td></tr><tr><td>Saudi Arabia</td><td>Wireless Mouse</td><td>3200</td></tr><tr><td>Saudi Arabia</td><td>Desk Organizer</td><td>2793</td></tr><tr><td>Saudi Arabia</td><td>Pen Drive 32GB</td><td>2396</td></tr><tr><td>Saudi Arabia</td><td>Water Bottle</td><td>1196</td></tr><tr><td>Saudi Arabia</td><td>Yoga Mat</td><td>998</td></tr><tr><td>Saudi Arabia</td><td>Notebook Set</td><td>447</td></tr><tr><td>UAE</td><td>Dumbbell Set</td><td>13993</td></tr><tr><td>UAE</td><td>Smartwatch</td><td>9998</td></tr><tr><td>UAE</td><td>Bluetooth Speaker</td><td>7200</td></tr><tr><td>UAE</td><td>Laptop Stand</td><td>4995</td></tr><tr><td>UAE</td><td>Desk Organizer</td><td>2793</td></tr><tr><td>UAE</td><td>Yoga Mat</td><td>2495</td></tr><tr><td>UAE</td><td>Wireless Mouse</td><td>2400</td></tr><tr><td>UAE</td><td>Water Bottle</td><td>1794</td></tr><tr><td>UAE</td><td>Notebook Set</td><td>894</td></tr><tr><td>UAE</td><td>Pen Drive 32GB</td><td>599</td></tr></tbody></table></div>"
      ]
     },
     "metadata": {
      "application/vnd.databricks.v1+output": {
       "addedWidgets": {},
       "aggData": [],
       "aggError": "",
       "aggOverflow": false,
       "aggSchema": [],
       "aggSeriesLimitReached": false,
       "aggType": "",
       "arguments": {},
       "columnCustomDisplayInfos": {},
       "data": [
        [
         "Egypt",
         "Smartwatch",
         19996
        ],
        [
         "Egypt",
         "Dumbbell Set",
         9995
        ],
        [
         "Egypt",
         "Laptop Stand",
         9990
        ],
        [
         "Egypt",
         "Bluetooth Speaker",
         4800
        ],
        [
         "Egypt",
         "Wireless Mouse",
         4000
        ],
        [
         "Egypt",
         "Pen Drive 32GB",
         3594
        ],
        [
         "Egypt",
         "Yoga Mat",
         1497
        ],
        [
         "Egypt",
         "Desk Organizer",
         1197
        ],
        [
         "Egypt",
         "Water Bottle",
         1196
        ],
        [
         "Egypt",
         "Notebook Set",
         149
        ],
        [
         "Saudi Arabia",
         "Smartwatch",
         39992
        ],
        [
         "Saudi Arabia",
         "Dumbbell Set",
         9995
        ],
        [
         "Saudi Arabia",
         "Laptop Stand",
         6993
        ],
        [
         "Saudi Arabia",
         "Bluetooth Speaker",
         6000
        ],
        [
         "Saudi Arabia",
         "Wireless Mouse",
         3200
        ],
        [
         "Saudi Arabia",
         "Desk Organizer",
         2793
        ],
        [
         "Saudi Arabia",
         "Pen Drive 32GB",
         2396
        ],
        [
         "Saudi Arabia",
         "Water Bottle",
         1196
        ],
        [
         "Saudi Arabia",
         "Yoga Mat",
         998
        ],
        [
         "Saudi Arabia",
         "Notebook Set",
         447
        ],
        [
         "UAE",
         "Dumbbell Set",
         13993
        ],
        [
         "UAE",
         "Smartwatch",
         9998
        ],
        [
         "UAE",
         "Bluetooth Speaker",
         7200
        ],
        [
         "UAE",
         "Laptop Stand",
         4995
        ],
        [
         "UAE",
         "Desk Organizer",
         2793
        ],
        [
         "UAE",
         "Yoga Mat",
         2495
        ],
        [
         "UAE",
         "Wireless Mouse",
         2400
        ],
        [
         "UAE",
         "Water Bottle",
         1794
        ],
        [
         "UAE",
         "Notebook Set",
         894
        ],
        [
         "UAE",
         "Pen Drive 32GB",
         599
        ]
       ],
       "datasetInfos": [],
       "dbfsResultPath": null,
       "isJsonSchema": true,
       "metadata": {},
       "overflow": false,
       "plotOptions": {
        "customPlotOptions": {},
        "displayType": "table",
        "pivotAggregation": null,
        "pivotColumns": null,
        "xColumns": null,
        "yColumns": null
       },
       "removedWidgets": [],
       "schema": [
        {
         "metadata": "{}",
         "name": "country",
         "type": "\"string\""
        },
        {
         "metadata": "{}",
         "name": "product_name",
         "type": "\"string\""
        },
        {
         "metadata": "{}",
         "name": "total_amount",
         "type": "\"long\""
        }
       ],
       "type": "table"
      }
     },
     "output_type": "display_data"
    }
   ],
   "source": [
    "df_top_products = df_retails_silver.groupby([\"country\", \"product_name\"]).agg(sum(\"total_amount\").alias(\"total_amount\"))\n",
    "df_top_products = df_top_products.orderBy([\"country\", \"total_amount\"], ascending=[True, False])\n",
    "display(df_top_products)\n"
   ]
  },
  {
   "cell_type": "code",
   "execution_count": 0,
   "metadata": {
    "application/vnd.databricks.v1+cell": {
     "cellMetadata": {
      "byteLimit": 2048000,
      "rowLimit": 10000
     },
     "inputWidgets": {},
     "nuid": "3885650e-0206-434a-bbcf-a23bbf1d6004",
     "showTitle": false,
     "tableResultSettingsMap": {},
     "title": ""
    }
   },
   "outputs": [],
   "source": [
    "df_top_products.write.mode(\"overwrite\").saveAsTable(\"polin.sales.top_products_gold\")"
   ]
  },
  {
   "cell_type": "code",
   "execution_count": 0,
   "metadata": {
    "application/vnd.databricks.v1+cell": {
     "cellMetadata": {
      "byteLimit": 2048000,
      "rowLimit": 10000
     },
     "inputWidgets": {},
     "nuid": "f11ebcc9-43f9-449e-ace6-4c40b5d9b95d",
     "showTitle": false,
     "tableResultSettingsMap": {},
     "title": ""
    }
   },
   "outputs": [
    {
     "data": {
      "text/html": [
       "<style scoped>\n",
       "  .table-result-container {\n",
       "    max-height: 300px;\n",
       "    overflow: auto;\n",
       "  }\n",
       "  table, th, td {\n",
       "    border: 1px solid black;\n",
       "    border-collapse: collapse;\n",
       "  }\n",
       "  th, td {\n",
       "    padding: 5px;\n",
       "  }\n",
       "  th {\n",
       "    text-align: left;\n",
       "  }\n",
       "</style><div class='table-result-container'><table class='table-result'><thead style='background-color: white'><tr><th>customer_id</th><th>transactions_per_customer</th><th>full_name</th></tr></thead><tbody><tr><td>101</td><td>2</td><td>Ahmed Khaled</td></tr><tr><td>102</td><td>2</td><td>Sara Al Mansour</td></tr><tr><td>103</td><td>2</td><td>Layla Kazemi</td></tr><tr><td>104</td><td>2</td><td>Omar Farouk</td></tr><tr><td>105</td><td>2</td><td>Fatima Al Rashid</td></tr><tr><td>106</td><td>2</td><td>Yousef Nasser</td></tr><tr><td>107</td><td>2</td><td>Mona Hossam</td></tr><tr><td>108</td><td>2</td><td>Hassan Al Saud</td></tr><tr><td>109</td><td>2</td><td>Ayesha Khan</td></tr><tr><td>110</td><td>2</td><td>Tamer Adel</td></tr><tr><td>111</td><td>2</td><td>Rania Saad</td></tr><tr><td>112</td><td>2</td><td>Karim Hamed</td></tr><tr><td>113</td><td>2</td><td>Laila Fouad</td></tr><tr><td>114</td><td>2</td><td>Sami Al Obaid</td></tr><tr><td>115</td><td>2</td><td>Dina Samir</td></tr><tr><td>116</td><td>2</td><td>Adel Nabil</td></tr><tr><td>117</td><td>2</td><td>Mariam Al Farsi</td></tr><tr><td>118</td><td>2</td><td>Omar Al Mazrouei</td></tr><tr><td>119</td><td>2</td><td>Nour Khalifa</td></tr><tr><td>120</td><td>2</td><td>Yara Saleh</td></tr><tr><td>121</td><td>2</td><td>Tariq Hassan</td></tr><tr><td>122</td><td>2</td><td>Lina Abdul</td></tr><tr><td>123</td><td>2</td><td>Rami Al Zahrani</td></tr><tr><td>124</td><td>1</td><td>Samar Fouad</td></tr><tr><td>125</td><td>1</td><td>Huda Nasser</td></tr><tr><td>126</td><td>1</td><td>Mohammed Al Amiri</td></tr><tr><td>127</td><td>1</td><td>Leila Hassan</td></tr></tbody></table></div>"
      ]
     },
     "metadata": {
      "application/vnd.databricks.v1+output": {
       "addedWidgets": {},
       "aggData": [],
       "aggError": "",
       "aggOverflow": false,
       "aggSchema": [],
       "aggSeriesLimitReached": false,
       "aggType": "",
       "arguments": {},
       "columnCustomDisplayInfos": {},
       "data": [
        [
         101,
         2,
         "Ahmed Khaled"
        ],
        [
         102,
         2,
         "Sara Al Mansour"
        ],
        [
         103,
         2,
         "Layla Kazemi"
        ],
        [
         104,
         2,
         "Omar Farouk"
        ],
        [
         105,
         2,
         "Fatima Al Rashid"
        ],
        [
         106,
         2,
         "Yousef Nasser"
        ],
        [
         107,
         2,
         "Mona Hossam"
        ],
        [
         108,
         2,
         "Hassan Al Saud"
        ],
        [
         109,
         2,
         "Ayesha Khan"
        ],
        [
         110,
         2,
         "Tamer Adel"
        ],
        [
         111,
         2,
         "Rania Saad"
        ],
        [
         112,
         2,
         "Karim Hamed"
        ],
        [
         113,
         2,
         "Laila Fouad"
        ],
        [
         114,
         2,
         "Sami Al Obaid"
        ],
        [
         115,
         2,
         "Dina Samir"
        ],
        [
         116,
         2,
         "Adel Nabil"
        ],
        [
         117,
         2,
         "Mariam Al Farsi"
        ],
        [
         118,
         2,
         "Omar Al Mazrouei"
        ],
        [
         119,
         2,
         "Nour Khalifa"
        ],
        [
         120,
         2,
         "Yara Saleh"
        ],
        [
         121,
         2,
         "Tariq Hassan"
        ],
        [
         122,
         2,
         "Lina Abdul"
        ],
        [
         123,
         2,
         "Rami Al Zahrani"
        ],
        [
         124,
         1,
         "Samar Fouad"
        ],
        [
         125,
         1,
         "Huda Nasser"
        ],
        [
         126,
         1,
         "Mohammed Al Amiri"
        ],
        [
         127,
         1,
         "Leila Hassan"
        ]
       ],
       "datasetInfos": [],
       "dbfsResultPath": null,
       "isJsonSchema": true,
       "metadata": {},
       "overflow": false,
       "plotOptions": {
        "customPlotOptions": {},
        "displayType": "table",
        "pivotAggregation": null,
        "pivotColumns": null,
        "xColumns": null,
        "yColumns": null
       },
       "removedWidgets": [],
       "schema": [
        {
         "metadata": "{}",
         "name": "customer_id",
         "type": "\"integer\""
        },
        {
         "metadata": "{}",
         "name": "transactions_per_customer",
         "type": "\"long\""
        },
        {
         "metadata": "{}",
         "name": "full_name",
         "type": "\"string\""
        }
       ],
       "type": "table"
      }
     },
     "output_type": "display_data"
    }
   ],
   "source": [
    "df_loyalty = df_retails_silver.groupBy(\"customer_id\").agg(countDistinct(\"transaction_id\").alias(\"transactions_per_customer\"),first(\"full_name\").alias(\"full_name\"))\n",
    "display(df_loyalty)"
   ]
  },
  {
   "cell_type": "code",
   "execution_count": 0,
   "metadata": {
    "application/vnd.databricks.v1+cell": {
     "cellMetadata": {
      "byteLimit": 2048000,
      "rowLimit": 10000
     },
     "inputWidgets": {},
     "nuid": "839088d0-f80b-4c3f-9266-73ba1c73f0ac",
     "showTitle": false,
     "tableResultSettingsMap": {},
     "title": ""
    }
   },
   "outputs": [],
   "source": [
    "df_loyalty.write.mode(\"overwrite\").saveAsTable(\"polin.sales.loyalty_gold\")"
   ]
  },
  {
   "cell_type": "code",
   "execution_count": 0,
   "metadata": {
    "application/vnd.databricks.v1+cell": {
     "cellMetadata": {
      "byteLimit": 2048000,
      "rowLimit": 10000
     },
     "inputWidgets": {},
     "nuid": "fa251358-bd9f-49a4-b985-c65d2c99c909",
     "showTitle": false,
     "tableResultSettingsMap": {},
     "title": ""
    }
   },
   "outputs": [
    {
     "data": {
      "text/html": [
       "<style scoped>\n",
       "  .table-result-container {\n",
       "    max-height: 300px;\n",
       "    overflow: auto;\n",
       "  }\n",
       "  table, th, td {\n",
       "    border: 1px solid black;\n",
       "    border-collapse: collapse;\n",
       "  }\n",
       "  th, td {\n",
       "    padding: 5px;\n",
       "  }\n",
       "  th {\n",
       "    text-align: left;\n",
       "  }\n",
       "</style><div class='table-result-container'><table class='table-result'><thead style='background-color: white'><tr><th>category</th><th>total_amount</th></tr></thead><tbody><tr><td>Electronics</td><td>104175</td></tr><tr><td>Fitness</td><td>43159</td></tr><tr><td>Accessories</td><td>28761</td></tr><tr><td>Stationery</td><td>1490</td></tr></tbody></table></div>"
      ]
     },
     "metadata": {
      "application/vnd.databricks.v1+output": {
       "addedWidgets": {},
       "aggData": [],
       "aggError": "",
       "aggOverflow": false,
       "aggSchema": [],
       "aggSeriesLimitReached": false,
       "aggType": "",
       "arguments": {},
       "columnCustomDisplayInfos": {},
       "data": [
        [
         "Electronics",
         104175
        ],
        [
         "Fitness",
         43159
        ],
        [
         "Accessories",
         28761
        ],
        [
         "Stationery",
         1490
        ]
       ],
       "datasetInfos": [],
       "dbfsResultPath": null,
       "isJsonSchema": true,
       "metadata": {},
       "overflow": false,
       "plotOptions": {
        "customPlotOptions": {},
        "displayType": "table",
        "pivotAggregation": null,
        "pivotColumns": null,
        "xColumns": null,
        "yColumns": null
       },
       "removedWidgets": [],
       "schema": [
        {
         "metadata": "{}",
         "name": "category",
         "type": "\"string\""
        },
        {
         "metadata": "{}",
         "name": "total_amount",
         "type": "\"long\""
        }
       ],
       "type": "table"
      }
     },
     "output_type": "display_data"
    }
   ],
   "source": [
    "df_category_sales = df_retails_silver.groupby(\"category\").agg(sum(\"total_amount\").alias(\"total_amount\")).sort(\"total_amount\", ascending=False)\n",
    "display(df_category_sales)"
   ]
  },
  {
   "cell_type": "code",
   "execution_count": 0,
   "metadata": {
    "application/vnd.databricks.v1+cell": {
     "cellMetadata": {
      "byteLimit": 2048000,
      "rowLimit": 10000
     },
     "inputWidgets": {},
     "nuid": "750a449b-7cce-46a4-834a-c9727441c4d8",
     "showTitle": false,
     "tableResultSettingsMap": {},
     "title": ""
    }
   },
   "outputs": [],
   "source": [
    "df_category_sales.write.mode(\"overwrite\").saveAsTable(\"polin.sales.category_sales_gold\")"
   ]
  },
  {
   "cell_type": "code",
   "execution_count": 0,
   "metadata": {
    "application/vnd.databricks.v1+cell": {
     "cellMetadata": {
      "byteLimit": 2048000,
      "rowLimit": 10000
     },
     "inputWidgets": {},
     "nuid": "0ed9f7b5-001d-4c20-869f-b44d6c1ebf2d",
     "showTitle": false,
     "tableResultSettingsMap": {},
     "title": ""
    }
   },
   "outputs": [
    {
     "data": {
      "text/html": [
       "<style scoped>\n",
       "  .table-result-container {\n",
       "    max-height: 300px;\n",
       "    overflow: auto;\n",
       "  }\n",
       "  table, th, td {\n",
       "    border: 1px solid black;\n",
       "    border-collapse: collapse;\n",
       "  }\n",
       "  th, td {\n",
       "    padding: 5px;\n",
       "  }\n",
       "  th {\n",
       "    text-align: left;\n",
       "  }\n",
       "</style><div class='table-result-container'><table class='table-result'><thead style='background-color: white'><tr><th>country</th><th>total_amount</th></tr></thead><tbody><tr><td>Saudi Arabia</td><td>74010</td></tr><tr><td>Egypt</td><td>56414</td></tr><tr><td>UAE</td><td>47161</td></tr></tbody></table></div>"
      ]
     },
     "metadata": {
      "application/vnd.databricks.v1+output": {
       "addedWidgets": {},
       "aggData": [],
       "aggError": "",
       "aggOverflow": false,
       "aggSchema": [],
       "aggSeriesLimitReached": false,
       "aggType": "",
       "arguments": {},
       "columnCustomDisplayInfos": {},
       "data": [
        [
         "Saudi Arabia",
         74010
        ],
        [
         "Egypt",
         56414
        ],
        [
         "UAE",
         47161
        ]
       ],
       "datasetInfos": [],
       "dbfsResultPath": null,
       "isJsonSchema": true,
       "metadata": {},
       "overflow": false,
       "plotOptions": {
        "customPlotOptions": {},
        "displayType": "table",
        "pivotAggregation": null,
        "pivotColumns": null,
        "xColumns": null,
        "yColumns": null
       },
       "removedWidgets": [],
       "schema": [
        {
         "metadata": "{}",
         "name": "country",
         "type": "\"string\""
        },
        {
         "metadata": "{}",
         "name": "total_amount",
         "type": "\"long\""
        }
       ],
       "type": "table"
      }
     },
     "output_type": "display_data"
    }
   ],
   "source": [
    "df_country_revenue = df_retails_silver.groupby(\"country\").agg(sum(\"total_amount\").alias(\"total_amount\")).sort(\"total_amount\", ascending=False)\n",
    "display(df_country_revenue)"
   ]
  },
  {
   "cell_type": "code",
   "execution_count": 0,
   "metadata": {
    "application/vnd.databricks.v1+cell": {
     "cellMetadata": {
      "byteLimit": 2048000,
      "rowLimit": 10000
     },
     "inputWidgets": {},
     "nuid": "dbcac0dc-719c-42b6-9a40-0aa8a46eb06a",
     "showTitle": false,
     "tableResultSettingsMap": {},
     "title": ""
    }
   },
   "outputs": [],
   "source": [
    "df_country_revenue.write.mode(\"overwrite\").saveAsTable(\"polin.sales.country_revenue_gold\")"
   ]
  },
  {
   "cell_type": "code",
   "execution_count": 0,
   "metadata": {
    "application/vnd.databricks.v1+cell": {
     "cellMetadata": {
      "byteLimit": 2048000,
      "rowLimit": 10000
     },
     "inputWidgets": {},
     "nuid": "bde88c48-1549-4c05-8b31-477cc097f0d4",
     "showTitle": false,
     "tableResultSettingsMap": {},
     "title": ""
    }
   },
   "outputs": [
    {
     "data": {
      "text/html": [
       "<style scoped>\n",
       "  .table-result-container {\n",
       "    max-height: 300px;\n",
       "    overflow: auto;\n",
       "  }\n",
       "  table, th, td {\n",
       "    border: 1px solid black;\n",
       "    border-collapse: collapse;\n",
       "  }\n",
       "  th, td {\n",
       "    padding: 5px;\n",
       "  }\n",
       "  th {\n",
       "    text-align: left;\n",
       "  }\n",
       "</style><div class='table-result-container'><table class='table-result'><thead style='background-color: white'><tr><th>store_name</th><th>total_amount</th></tr></thead><tbody><tr><td>High Street Store</td><td>87986</td></tr><tr><td>Cairo Festival City Mall</td><td>55961</td></tr><tr><td>Mega Plaza</td><td>8079</td></tr><tr><td>Tech World Outlet</td><td>11773</td></tr><tr><td>City Mall Store</td><td>13786</td></tr></tbody></table></div>"
      ]
     },
     "metadata": {
      "application/vnd.databricks.v1+output": {
       "addedWidgets": {},
       "aggData": [],
       "aggError": "",
       "aggOverflow": false,
       "aggSchema": [],
       "aggSeriesLimitReached": false,
       "aggType": "",
       "arguments": {},
       "columnCustomDisplayInfos": {},
       "data": [
        [
         "High Street Store",
         87986
        ],
        [
         "Cairo Festival City Mall",
         55961
        ],
        [
         "Mega Plaza",
         8079
        ],
        [
         "Tech World Outlet",
         11773
        ],
        [
         "City Mall Store",
         13786
        ]
       ],
       "datasetInfos": [],
       "dbfsResultPath": null,
       "isJsonSchema": true,
       "metadata": {},
       "overflow": false,
       "plotOptions": {
        "customPlotOptions": {},
        "displayType": "table",
        "pivotAggregation": null,
        "pivotColumns": null,
        "xColumns": null,
        "yColumns": null
       },
       "removedWidgets": [],
       "schema": [
        {
         "metadata": "{}",
         "name": "store_name",
         "type": "\"string\""
        },
        {
         "metadata": "{}",
         "name": "total_amount",
         "type": "\"long\""
        }
       ],
       "type": "table"
      }
     },
     "output_type": "display_data"
    }
   ],
   "source": [
    "df_store_sales = df_retails_silver.groupby(\"store_name\").agg(sum(\"total_amount\").alias(\"total_amount\"))\n",
    "display(df_store_sales)"
   ]
  },
  {
   "cell_type": "code",
   "execution_count": 0,
   "metadata": {
    "application/vnd.databricks.v1+cell": {
     "cellMetadata": {
      "byteLimit": 2048000,
      "rowLimit": 10000
     },
     "inputWidgets": {},
     "nuid": "b0405a91-ad27-4854-ab02-bb1b094bc6f8",
     "showTitle": false,
     "tableResultSettingsMap": {},
     "title": ""
    }
   },
   "outputs": [],
   "source": [
    "df_store_sales.write.mode(\"overwrite\").saveAsTable(\"polin.sales.store_sales_gold\")"
   ]
  },
  {
   "cell_type": "code",
   "execution_count": 0,
   "metadata": {
    "application/vnd.databricks.v1+cell": {
     "cellMetadata": {
      "byteLimit": 2048000,
      "rowLimit": 10000
     },
     "inputWidgets": {},
     "nuid": "5843faea-a9f7-469e-81db-f5ac149d4750",
     "showTitle": false,
     "tableResultSettingsMap": {},
     "title": ""
    }
   },
   "outputs": [
    {
     "data": {
      "text/html": [
       "<style scoped>\n",
       "  .table-result-container {\n",
       "    max-height: 300px;\n",
       "    overflow: auto;\n",
       "  }\n",
       "  table, th, td {\n",
       "    border: 1px solid black;\n",
       "    border-collapse: collapse;\n",
       "  }\n",
       "  th, td {\n",
       "    padding: 5px;\n",
       "  }\n",
       "  th {\n",
       "    text-align: left;\n",
       "  }\n",
       "</style><div class='table-result-container'><table class='table-result'><thead style='background-color: white'><tr><th>product_name</th><th>mean(price)</th><th>mean(quantity)</th></tr></thead><tbody><tr><td>Laptop Stand</td><td>999.0</td><td>4.4</td></tr><tr><td>Desk Organizer</td><td>399.0</td><td>3.4</td></tr><tr><td>Dumbbell Set</td><td>1999.0</td><td>3.4</td></tr><tr><td>Bluetooth Speaker</td><td>1200.0</td><td>3.0</td></tr><tr><td>Smartwatch</td><td>4999.0</td><td>2.8</td></tr><tr><td>Water Bottle</td><td>299.0</td><td>2.8</td></tr><tr><td>Wireless Mouse</td><td>800.0</td><td>2.4</td></tr><tr><td>Pen Drive 32GB</td><td>599.0</td><td>2.2</td></tr><tr><td>Yoga Mat</td><td>499.0</td><td>2.0</td></tr><tr><td>Notebook Set</td><td>149.0</td><td>2.0</td></tr></tbody></table></div>"
      ]
     },
     "metadata": {
      "application/vnd.databricks.v1+output": {
       "addedWidgets": {},
       "aggData": [],
       "aggError": "",
       "aggOverflow": false,
       "aggSchema": [],
       "aggSeriesLimitReached": false,
       "aggType": "",
       "arguments": {},
       "columnCustomDisplayInfos": {},
       "data": [
        [
         "Laptop Stand",
         999,
         4.4
        ],
        [
         "Desk Organizer",
         399,
         3.4
        ],
        [
         "Dumbbell Set",
         1999,
         3.4
        ],
        [
         "Bluetooth Speaker",
         1200,
         3
        ],
        [
         "Smartwatch",
         4999,
         2.8
        ],
        [
         "Water Bottle",
         299,
         2.8
        ],
        [
         "Wireless Mouse",
         800,
         2.4
        ],
        [
         "Pen Drive 32GB",
         599,
         2.2
        ],
        [
         "Yoga Mat",
         499,
         2
        ],
        [
         "Notebook Set",
         149,
         2
        ]
       ],
       "datasetInfos": [],
       "dbfsResultPath": null,
       "isJsonSchema": true,
       "metadata": {},
       "overflow": false,
       "plotOptions": {
        "customPlotOptions": {},
        "displayType": "table",
        "pivotAggregation": null,
        "pivotColumns": null,
        "xColumns": null,
        "yColumns": null
       },
       "removedWidgets": [],
       "schema": [
        {
         "metadata": "{}",
         "name": "product_name",
         "type": "\"string\""
        },
        {
         "metadata": "{\"__autoGeneratedAlias\":\"true\"}",
         "name": "mean(price)",
         "type": "\"double\""
        },
        {
         "metadata": "{\"__autoGeneratedAlias\":\"true\"}",
         "name": "mean(quantity)",
         "type": "\"double\""
        }
       ],
       "type": "table"
      }
     },
     "output_type": "display_data"
    }
   ],
   "source": [
    "df_price_sensitivity = df_retails_silver.groupby(\"product_name\").agg({\"price\": \"mean\", \"quantity\": \"mean\"}).sort(\"mean(quantity)\", ascending=False)\n",
    "display(df_price_sensitivity)"
   ]
  },
  {
   "cell_type": "code",
   "execution_count": 0,
   "metadata": {
    "application/vnd.databricks.v1+cell": {
     "cellMetadata": {
      "byteLimit": 2048000,
      "rowLimit": 10000
     },
     "inputWidgets": {},
     "nuid": "049aa51b-a68d-44df-96b9-5ed4f875b933",
     "showTitle": false,
     "tableResultSettingsMap": {},
     "title": ""
    }
   },
   "outputs": [],
   "source": [
    "df_price_sensitivity = df_price_sensitivity.withColumnRenamed(\"mean(price)\", \"mean_price\").withColumnRenamed(\"mean(quantity)\", \"mean_quantity\")"
   ]
  },
  {
   "cell_type": "code",
   "execution_count": 0,
   "metadata": {
    "application/vnd.databricks.v1+cell": {
     "cellMetadata": {
      "byteLimit": 2048000,
      "rowLimit": 10000
     },
     "inputWidgets": {},
     "nuid": "4d35ba49-4228-4f05-a8b8-174b31b43302",
     "showTitle": false,
     "tableResultSettingsMap": {
      "0": {
       "dataGridStateBlob": "{\"version\":1,\"tableState\":{\"columnPinning\":{\"left\":[\"#row_number#\"],\"right\":[]},\"columnSizing\":{},\"columnVisibility\":{}},\"settings\":{\"columns\":{}},\"syncTimestamp\":1761747862700}",
       "filterBlob": null,
       "queryPlanFiltersBlob": null,
       "tableResultIndex": 0
      }
     },
     "title": ""
    }
   },
   "outputs": [
    {
     "data": {
      "text/html": [
       "<style scoped>\n",
       "  .table-result-container {\n",
       "    max-height: 300px;\n",
       "    overflow: auto;\n",
       "  }\n",
       "  table, th, td {\n",
       "    border: 1px solid black;\n",
       "    border-collapse: collapse;\n",
       "  }\n",
       "  th, td {\n",
       "    padding: 5px;\n",
       "  }\n",
       "  th {\n",
       "    text-align: left;\n",
       "  }\n",
       "</style><div class='table-result-container'><table class='table-result'><thead style='background-color: white'><tr><th>product_name</th><th>mean_price</th><th>mean_quantity</th></tr></thead><tbody><tr><td>Laptop Stand</td><td>999.0</td><td>4.4</td></tr><tr><td>Desk Organizer</td><td>399.0</td><td>3.4</td></tr><tr><td>Dumbbell Set</td><td>1999.0</td><td>3.4</td></tr><tr><td>Bluetooth Speaker</td><td>1200.0</td><td>3.0</td></tr><tr><td>Smartwatch</td><td>4999.0</td><td>2.8</td></tr><tr><td>Water Bottle</td><td>299.0</td><td>2.8</td></tr><tr><td>Wireless Mouse</td><td>800.0</td><td>2.4</td></tr><tr><td>Pen Drive 32GB</td><td>599.0</td><td>2.2</td></tr><tr><td>Yoga Mat</td><td>499.0</td><td>2.0</td></tr><tr><td>Notebook Set</td><td>149.0</td><td>2.0</td></tr></tbody></table></div>"
      ]
     },
     "metadata": {
      "application/vnd.databricks.v1+output": {
       "addedWidgets": {},
       "aggData": [],
       "aggError": "",
       "aggOverflow": false,
       "aggSchema": [],
       "aggSeriesLimitReached": false,
       "aggType": "",
       "arguments": {},
       "columnCustomDisplayInfos": {},
       "data": [
        [
         "Laptop Stand",
         999,
         4.4
        ],
        [
         "Desk Organizer",
         399,
         3.4
        ],
        [
         "Dumbbell Set",
         1999,
         3.4
        ],
        [
         "Bluetooth Speaker",
         1200,
         3
        ],
        [
         "Smartwatch",
         4999,
         2.8
        ],
        [
         "Water Bottle",
         299,
         2.8
        ],
        [
         "Wireless Mouse",
         800,
         2.4
        ],
        [
         "Pen Drive 32GB",
         599,
         2.2
        ],
        [
         "Yoga Mat",
         499,
         2
        ],
        [
         "Notebook Set",
         149,
         2
        ]
       ],
       "datasetInfos": [],
       "dbfsResultPath": null,
       "isJsonSchema": true,
       "metadata": {},
       "overflow": false,
       "plotOptions": {
        "customPlotOptions": {},
        "displayType": "table",
        "pivotAggregation": null,
        "pivotColumns": null,
        "xColumns": null,
        "yColumns": null
       },
       "removedWidgets": [],
       "schema": [
        {
         "metadata": "{}",
         "name": "product_name",
         "type": "\"string\""
        },
        {
         "metadata": "{}",
         "name": "mean_price",
         "type": "\"double\""
        },
        {
         "metadata": "{}",
         "name": "mean_quantity",
         "type": "\"double\""
        }
       ],
       "type": "table"
      }
     },
     "output_type": "display_data"
    }
   ],
   "source": [
    "display(df_price_sensitivity)"
   ]
  },
  {
   "cell_type": "code",
   "execution_count": 0,
   "metadata": {
    "application/vnd.databricks.v1+cell": {
     "cellMetadata": {
      "byteLimit": 2048000,
      "rowLimit": 10000
     },
     "inputWidgets": {},
     "nuid": "7fced8f2-ed9b-436d-8468-a7584e57fd5a",
     "showTitle": false,
     "tableResultSettingsMap": {},
     "title": ""
    }
   },
   "outputs": [],
   "source": [
    "df_price_sensitivity.write.mode(\"overwrite\").saveAsTable(\"polin.sales.price_sensitivity_gold\")"
   ]
  },
  {
   "cell_type": "code",
   "execution_count": 0,
   "metadata": {
    "application/vnd.databricks.v1+cell": {
     "cellMetadata": {},
     "inputWidgets": {},
     "nuid": "733d5a2d-087c-414b-b817-c82c1202c323",
     "showTitle": false,
     "tableResultSettingsMap": {},
     "title": ""
    }
   },
   "outputs": [],
   "source": []
  }
 ],
 "metadata": {
  "application/vnd.databricks.v1+notebook": {
   "computePreferences": null,
   "dashboards": [],
   "environmentMetadata": {
    "base_environment": "",
    "environment_version": "4"
   },
   "inputWidgetPreferences": null,
   "language": "python",
   "notebookMetadata": {
    "pythonIndentUnit": 4
   },
   "notebookName": "Session 26-10",
   "widgets": {}
  },
  "language_info": {
   "name": "python"
  }
 },
 "nbformat": 4,
 "nbformat_minor": 0
}
